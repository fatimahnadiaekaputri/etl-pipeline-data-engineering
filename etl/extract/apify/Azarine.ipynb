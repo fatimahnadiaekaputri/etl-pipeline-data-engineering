{
  "nbformat": 4,
  "nbformat_minor": 0,
  "metadata": {
    "colab": {
      "provenance": []
    },
    "kernelspec": {
      "name": "python3",
      "display_name": "Python 3"
    },
    "language_info": {
      "name": "python"
    }
  },
  "cells": [
    {
      "cell_type": "code",
      "source": [
        "!pip install apify-client\n"
      ],
      "metadata": {
        "colab": {
          "base_uri": "https://localhost:8080/"
        },
        "id": "DLvy9iBnNjHm",
        "outputId": "d1e6cfe6-10e4-48e0-e491-56fbc378215a"
      },
      "execution_count": 29,
      "outputs": [
        {
          "output_type": "stream",
          "name": "stdout",
          "text": [
            "Requirement already satisfied: apify-client in /usr/local/lib/python3.10/dist-packages (1.8.1)\n",
            "Requirement already satisfied: apify-shared>=1.1.2 in /usr/local/lib/python3.10/dist-packages (from apify-client) (1.1.2)\n",
            "Requirement already satisfied: httpx>=0.25.0 in /usr/local/lib/python3.10/dist-packages (from apify-client) (0.27.2)\n",
            "Requirement already satisfied: more_itertools>=10.0.0 in /usr/local/lib/python3.10/dist-packages (from apify-client) (10.5.0)\n",
            "Requirement already satisfied: anyio in /usr/local/lib/python3.10/dist-packages (from httpx>=0.25.0->apify-client) (3.7.1)\n",
            "Requirement already satisfied: certifi in /usr/local/lib/python3.10/dist-packages (from httpx>=0.25.0->apify-client) (2024.8.30)\n",
            "Requirement already satisfied: httpcore==1.* in /usr/local/lib/python3.10/dist-packages (from httpx>=0.25.0->apify-client) (1.0.6)\n",
            "Requirement already satisfied: idna in /usr/local/lib/python3.10/dist-packages (from httpx>=0.25.0->apify-client) (3.10)\n",
            "Requirement already satisfied: sniffio in /usr/local/lib/python3.10/dist-packages (from httpx>=0.25.0->apify-client) (1.3.1)\n",
            "Requirement already satisfied: h11<0.15,>=0.13 in /usr/local/lib/python3.10/dist-packages (from httpcore==1.*->httpx>=0.25.0->apify-client) (0.14.0)\n",
            "Requirement already satisfied: exceptiongroup in /usr/local/lib/python3.10/dist-packages (from anyio->httpx>=0.25.0->apify-client) (1.2.2)\n"
          ]
        }
      ]
    },
    {
      "cell_type": "code",
      "execution_count": 30,
      "metadata": {
        "id": "Cky7BBKENUxM"
      },
      "outputs": [],
      "source": [
        "# from apify_client import ApifyClient\n",
        "\n",
        "# # Initialize the ApifyClient with your API token\n",
        "# client = ApifyClient(\"apify_api_XFZhJOWDOXZfankLvHRWPJ3VeGpcsB46RA1g\")\n",
        "\n",
        "# # Prepare the Actor input\n",
        "# run_input = {\n",
        "#     \"searchTerms\": [\"suncreen Azarine\"],\n",
        "#     \"isMultiple\": False,\n",
        "#     \"timeRange\": \"today 3-m\",\n",
        "#     \"viewedFrom\": \"id\",\n",
        "#     \"skipDebugScreen\": False,\n",
        "#     \"geo\": \"ID\",\n",
        "#     \"isPublic\": False,\n",
        "#     \"maxItems\": 0,\n",
        "#     \"maxConcurrency\": 10,\n",
        "#     \"maxRequestRetries\": 7,\n",
        "#     \"pageLoadTimeoutSecs\": 180,\n",
        "# }\n",
        "\n",
        "# # Run the Actor and wait for it to finish\n",
        "# run = client.actor(\"DyNQEYDj9awfGQf9A\").call(run_input=run_input)\n",
        "\n",
        "# # Fetch and print Actor results from the run's dataset (if there are any)\n",
        "# for item in client.dataset(run[\"defaultDatasetId\"]).iterate_items():\n",
        "#     print(item)"
      ]
    },
    {
      "cell_type": "code",
      "source": [
        "from apify_client import ApifyClient\n",
        "import json\n",
        "import csv\n",
        "\n",
        "# Initialize the ApifyClient with your API token\n",
        "client = ApifyClient(\"apify_api_XFZhJOWDOXZfankLvHRWPJ3VeGpcsB46RA1g\")\n",
        "\n",
        "# Prepare the Actor input\n",
        "run_input = {\n",
        "    \"searchTerms\": [\"sunscreen Azarine\"],\n",
        "    \"isMultiple\": False,\n",
        "    \"timeRange\": \"today 3-m\",\n",
        "    \"viewedFrom\": \"id\",  # Kode negara: \"id\" untuk Indonesia\n",
        "    \"geo\": \"ID\",\n",
        "    \"skipDebugScreen\": False,\n",
        "    \"isPublic\": False,\n",
        "    \"maxItems\": 0,\n",
        "    \"maxConcurrency\": 10,\n",
        "    \"maxRequestRetries\": 7,\n",
        "    \"pageLoadTimeoutSecs\": 180,\n",
        "}\n",
        "\n",
        "# Jalankan Actor dan tunggu hingga selesai\n",
        "run = client.actor(\"DyNQEYDj9awfGQf9A\").call(run_input=run_input)\n",
        "\n",
        "# Ambil hasil dari dataset\n",
        "results = list(client.dataset(run[\"defaultDatasetId\"]).iterate_items())\n",
        "\n",
        "# Simpan hasil ke file JSON\n",
        "with open(\"results.json\", \"w\") as json_file:\n",
        "    json.dump(results, json_file, indent=4)\n",
        "\n",
        "# Simpan hasil ke file CSV\n",
        "if results:\n",
        "    with open(\"results.csv\", \"w\", newline=\"\") as csv_file:\n",
        "        writer = csv.DictWriter(csv_file, fieldnames=results[0].keys())\n",
        "        writer.writeheader()\n",
        "        writer.writerows(results)\n",
        "\n",
        "print(\"Hasil berhasil diekspor ke 'results.json' dan 'results.csv'.\")\n"
      ],
      "metadata": {
        "colab": {
          "base_uri": "https://localhost:8080/"
        },
        "id": "II18RXKjQK9U",
        "outputId": "51823e41-91e2-42e2-fa2a-aa6010da6aba"
      },
      "execution_count": 31,
      "outputs": [
        {
          "output_type": "stream",
          "name": "stdout",
          "text": [
            "Hasil berhasil diekspor ke 'results.json' dan 'results.csv'.\n"
          ]
        }
      ]
    },
    {
      "cell_type": "code",
      "source": [
        "import pandas as pd\n",
        "import ast"
      ],
      "metadata": {
        "id": "bqSgNPX5REz0"
      },
      "execution_count": 32,
      "outputs": []
    },
    {
      "cell_type": "code",
      "source": [
        "data = pd.read_csv('results.csv')"
      ],
      "metadata": {
        "id": "yZlH8ls1RJWs"
      },
      "execution_count": 33,
      "outputs": []
    },
    {
      "cell_type": "code",
      "source": [
        "# Ambil data dari kolom interestOverTime_timelineData\n",
        "timeline_data = data['interestOverTime_timelineData']\n",
        "\n",
        "# Konversi data dari string ke format list of dictionaries\n",
        "timeline_data_parsed = [ast.literal_eval(row) for row in timeline_data if pd.notnull(row)]\n",
        "\n",
        "# Flatten data untuk memudahkan analisis\n",
        "flattened_data = []\n",
        "for entry in timeline_data_parsed:\n",
        "    flattened_data.extend(entry)\n",
        "\n",
        "# Buat DataFrame baru dari hasil flatten\n",
        "timeline_df = pd.DataFrame(flattened_data)\n",
        "\n",
        "# Simpan hasil ke CSV baru (opsional)\n",
        "timeline_df.to_csv(\"interestOverTime_timelineData.csv\", index=False)\n",
        "\n",
        "print(timeline_df.head())"
      ],
      "metadata": {
        "colab": {
          "base_uri": "https://localhost:8080/"
        },
        "id": "E6dzCdloSRgd",
        "outputId": "cf165fbe-8e4b-4ad3-83bc-0f8a56061c7f"
      },
      "execution_count": 34,
      "outputs": [
        {
          "output_type": "stream",
          "name": "stdout",
          "text": [
            "         time formattedTime formattedAxisTime value hasData formattedValue  \\\n",
            "0  1724025600  Aug 19, 2024            Aug 19  [57]  [True]           [57]   \n",
            "1  1724112000  Aug 20, 2024            Aug 20  [62]  [True]           [62]   \n",
            "2  1724198400  Aug 21, 2024            Aug 21  [67]  [True]           [67]   \n",
            "3  1724284800  Aug 22, 2024            Aug 22  [59]  [True]           [59]   \n",
            "4  1724371200  Aug 23, 2024            Aug 23  [71]  [True]           [71]   \n",
            "\n",
            "  isPartial  \n",
            "0       NaN  \n",
            "1       NaN  \n",
            "2       NaN  \n",
            "3       NaN  \n",
            "4       NaN  \n"
          ]
        }
      ]
    }
  ]
}